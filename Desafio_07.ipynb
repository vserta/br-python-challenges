{
  "nbformat": 4,
  "nbformat_minor": 0,
  "metadata": {
    "colab": {
      "name": "Desafio 7.ipynb",
      "provenance": [],
      "include_colab_link": true
    },
    "kernelspec": {
      "name": "python3",
      "display_name": "Python 3"
    }
  },
  "cells": [
    {
      "cell_type": "markdown",
      "metadata": {
        "id": "view-in-github",
        "colab_type": "text"
      },
      "source": [
        "<a href=\"https://colab.research.google.com/github/vserta/br-python-challenges/blob/master/Desafio_07.ipynb\" target=\"_parent\"><img src=\"https://colab.research.google.com/assets/colab-badge.svg\" alt=\"Open In Colab\"/></a>"
      ]
    },
    {
      "cell_type": "markdown",
      "metadata": {
        "id": "gQbaWOWcW1g_"
      },
      "source": [
        "# Desafio 7\n",
        "Um professor de universidade tem uma turma com os seguintes números de telefones:"
      ]
    },
    {
      "cell_type": "code",
      "metadata": {
        "id": "T68FjcUmWear"
      },
      "source": [
        "telefones_alunos = ['(873) 810-8267', '(633) 244-7325', '(300) 303-5462', \n",
        "                    '(938) 300-8890', '(429) 264-7427', '(737) 805-2326', \n",
        "                    '(768) 956-8497', '(941) 225-3869', '(203) 606-9463', \n",
        "                    '(294) 430-7720', '(896) 781-5087', '(397) 845-8267', \n",
        "                    '(788) 717-6858', '(419) 734-4188', '(682) 595-3278', \n",
        "                    '(835) 955-1498', '(296) 415-9944', '(897) 932-2512', \n",
        "                    '(263) 415-3893', '(822) 640-8496', '(640) 427-2597', \n",
        "                    '(856) 338-7094', '(807) 554-4076', '(641) 367-5279', \n",
        "                    '(828) 866-0696', '(727) 376-5749', '(921) 948-2244', \n",
        "                    '(964) 710-9625', '(596) 685-1242', '(403) 343-7705', \n",
        "                    '(227) 389-3685', '(264) 372-7298', '(797) 649-3653', \n",
        "                    '(374) 361-3844', '(618) 490-4228', '(987) 803-5550', \n",
        "                    '(228) 976-9699', '(757) 450-9985', '(491) 666-5367',\n",
        "                    ]"
      ],
      "execution_count": 1,
      "outputs": []
    },
    {
      "cell_type": "markdown",
      "metadata": {
        "id": "ryYrStScXgZ3"
      },
      "source": [
        "Ele criou um grupo do whatapp no entanto somente os seguintes números entraram:"
      ]
    },
    {
      "cell_type": "code",
      "metadata": {
        "id": "0Hxk13ciXZ3h"
      },
      "source": [
        "entraram_no_grupo = ['(596) 685-1242', '(727) 376-5749', '(987) 803-5550', \n",
        "                     '(633) 244-7325', '(828) 866-0696', '(263) 415-3893', \n",
        "                     '(203) 606-9463', '(296) 415-9944', '(419) 734-4188', \n",
        "                     '(618) 490-4228', '(682) 595-3278', '(938) 300-8890', \n",
        "                     '(264) 372-7298', '(768) 956-8497', '(737) 805-2326', \n",
        "                     '(788) 717-6858', '(228) 976-9699', '(896) 781-5087',\n",
        "                     '(374) 361-3844', '(921) 948-2244', '(807) 554-4076', \n",
        "                     '(822) 640-8496', '(227) 389-3685', '(429) 264-7427', \n",
        "                     '(397) 845-8267']"
      ],
      "execution_count": 3,
      "outputs": []
    },
    {
      "cell_type": "markdown",
      "metadata": {
        "id": "-inLXlaxoWnC"
      },
      "source": [
        "Você seria capaz de criar uma lista dos alunos que ainda não entraram no grupo para que sejam contatados individualmente?"
      ]
    },
    {
      "cell_type": "code",
      "metadata": {
        "id": "_OSrDQ1noh62"
      },
      "source": [
        "from collections import Counter"
      ],
      "execution_count": 4,
      "outputs": []
    },
    {
      "cell_type": "code",
      "metadata": {
        "id": "BOcdudmV-CDL"
      },
      "source": [
        "entrar_em_contato = list((Counter(telefones_alunos)-Counter(entraram_no_grupo)).elements())"
      ],
      "execution_count": 5,
      "outputs": []
    },
    {
      "cell_type": "code",
      "metadata": {
        "id": "lD8F3Q_y-Fla",
        "outputId": "7549772f-afd1-4013-93da-e839a010fa57",
        "colab": {
          "base_uri": "https://localhost:8080/"
        }
      },
      "source": [
        "print(entrar_em_contato)"
      ],
      "execution_count": 6,
      "outputs": [
        {
          "output_type": "stream",
          "text": [
            "['(873) 810-8267', '(300) 303-5462', '(941) 225-3869', '(294) 430-7720', '(835) 955-1498', '(897) 932-2512', '(640) 427-2597', '(856) 338-7094', '(641) 367-5279', '(964) 710-9625', '(403) 343-7705', '(797) 649-3653', '(757) 450-9985', '(491) 666-5367']\n"
          ],
          "name": "stdout"
        }
      ]
    }
  ]
}