{
  "nbformat": 4,
  "nbformat_minor": 0,
  "metadata": {
    "anaconda-cloud": {},
    "kernelspec": {
      "display_name": "Python 3",
      "language": "python",
      "name": "python3"
    },
    "language_info": {
      "codemirror_mode": {
        "name": "ipython",
        "version": 3
      },
      "file_extension": ".py",
      "mimetype": "text/x-python",
      "name": "python",
      "nbconvert_exporter": "python",
      "pygments_lexer": "ipython3",
      "version": "3.6.5"
    },
    "colab": {
      "name": "Desafio 12.ipynb",
      "provenance": [],
      "include_colab_link": true
    }
  },
  "cells": [
    {
      "cell_type": "markdown",
      "metadata": {
        "id": "view-in-github",
        "colab_type": "text"
      },
      "source": [
        "<a href=\"https://colab.research.google.com/github/vserta/br-python-challenges/blob/master/Desafio_12.ipynb\" target=\"_parent\"><img src=\"https://colab.research.google.com/assets/colab-badge.svg\" alt=\"Open In Colab\"/></a>"
      ]
    },
    {
      "cell_type": "markdown",
      "metadata": {
        "id": "AYHY2YXQf6J2"
      },
      "source": [
        "### Desafio 12\n",
        "\n",
        "Escreva uma função em Python para verificar a validade de uma senha.\n",
        "\n",
        "Validação:\n",
        "\n",
        "* Pelo menos 1 letra entre [a-z] e 1 letra entre [A-Z].\n",
        "* Pelo menos 1 número entre [0-9].\n",
        "* Pelo menos 1 caractere de [$ # @].\n",
        "* Comprimento mínimo de 6 caracteres.\n",
        "* Comprimento máximo de 16 caracteres.\n",
        "\n",
        "Entradas: \"12345678\", \"J3sus0\", \"#Te5t300\", \"J*90j12374\", \"Michheeul\", \"Monk3y6\"\n",
        "\n",
        "A saída deve ser a senha e um texto indicando se a senha é válida ou inválida:\n",
        "\n",
        "```\n",
        "\"1234\" - Senha inválida\n",
        "\"Qw#1234\" - Senha válida\n",
        "```"
      ]
    },
    {
      "cell_type": "code",
      "metadata": {
        "id": "UGgtGYGGf6J3"
      },
      "source": [
        "import re\r\n",
        "lista = [\"12345678\",\"J3sus0\",\"#Te5t300\",\"J*90j12374\",\"Michheul\",\"Monk3y6\"]"
      ],
      "execution_count": 2,
      "outputs": []
    },
    {
      "cell_type": "code",
      "metadata": {
        "id": "n8F01NzD9uHm"
      },
      "source": [
        "def validar_senha(senha):\r\n",
        "  \r\n",
        "  if(len(senha) < 6 or len(senha) > 16):\r\n",
        "    return False\r\n",
        "\r\n",
        "  if(len(re.findall(r'[A-Z]',senha)) == 0):\r\n",
        "    return False\r\n",
        "\r\n",
        "  if(len(re.findall(r'[a-z]',senha)) == 0):\r\n",
        "    return False\r\n",
        "\r\n",
        "  if(len(re.findall(r'[0-9]', senha)) == 0):\r\n",
        "    return False\r\n",
        "\r\n",
        "  if(len(re.findall(r'[$,#,@]', senha)) == 0):\r\n",
        "    return False\r\n",
        "\r\n",
        "  return True          "
      ],
      "execution_count": 3,
      "outputs": []
    },
    {
      "cell_type": "code",
      "metadata": {
        "id": "dD7UPo9iN5Ls",
        "outputId": "e568cce4-2561-426c-81e1-3487c0ad3f06",
        "colab": {
          "base_uri": "https://localhost:8080/"
        }
      },
      "source": [
        "for item in lista:\r\n",
        "  if(validar_senha(item)):\r\n",
        "    print(f'Senha válida: {item}')\r\n",
        "  else:\r\n",
        "    print(f'Senha inválida: {item}')  "
      ],
      "execution_count": 4,
      "outputs": [
        {
          "output_type": "stream",
          "text": [
            "Senha inválida: 12345678\n",
            "Senha inválida: J3sus0\n",
            "Senha válida: #Te5t300\n",
            "Senha inválida: J*90j12374\n",
            "Senha inválida: Michheul\n",
            "Senha inválida: Monk3y6\n"
          ],
          "name": "stdout"
        }
      ]
    }
  ]
}