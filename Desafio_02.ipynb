{
  "nbformat": 4,
  "nbformat_minor": 0,
  "metadata": {
    "anaconda-cloud": {},
    "kernelspec": {
      "display_name": "Python 3",
      "language": "python",
      "name": "python3"
    },
    "language_info": {
      "codemirror_mode": {
        "name": "ipython",
        "version": 3
      },
      "file_extension": ".py",
      "mimetype": "text/x-python",
      "name": "python",
      "nbconvert_exporter": "python",
      "pygments_lexer": "ipython3",
      "version": "3.6.5"
    },
    "colab": {
      "name": "Desafio 2.ipynb",
      "provenance": [],
      "include_colab_link": true
    }
  },
  "cells": [
    {
      "cell_type": "markdown",
      "metadata": {
        "id": "view-in-github",
        "colab_type": "text"
      },
      "source": [
        "<a href=\"https://colab.research.google.com/github/vserta/br-python-challenges/blob/master/Desafio_02.ipynb\" target=\"_parent\"><img src=\"https://colab.research.google.com/assets/colab-badge.svg\" alt=\"Open In Colab\"/></a>"
      ]
    },
    {
      "cell_type": "markdown",
      "metadata": {
        "id": "q1NCks7Af6JN"
      },
      "source": [
        "### Desafio 2\n",
        "\n",
        "Escreva uma função que recebe um número inteiro de horas e a converte em segundos.\n",
        "\n",
        "Exemplo:\n",
        "\n",
        "convert(5) ➞ 18000\n",
        "\n",
        "convert(3) ➞ 10800\n",
        "\n",
        "convert(2) ➞ 7200"
      ]
    },
    {
      "cell_type": "code",
      "metadata": {
        "id": "sSm6F7sff6JO"
      },
      "source": [
        "#convert hour to seconds\n",
        "def convert_to_sec(a):\n",
        "    convert = (a*60)*60\n",
        "    return convert"
      ],
      "execution_count": 7,
      "outputs": []
    },
    {
      "cell_type": "code",
      "metadata": {
        "id": "sQ9TJ9LW3EX5",
        "outputId": "958aedec-47f7-4d2b-b242-3851432da9b2",
        "colab": {
          "base_uri": "https://localhost:8080/"
        }
      },
      "source": [
        "convert_to_sec(5)"
      ],
      "execution_count": 8,
      "outputs": [
        {
          "output_type": "execute_result",
          "data": {
            "text/plain": [
              "18000"
            ]
          },
          "metadata": {
            "tags": []
          },
          "execution_count": 8
        }
      ]
    },
    {
      "cell_type": "code",
      "metadata": {
        "id": "u3VX9Z-V3NuZ",
        "outputId": "78cbd43a-c7d9-4f3a-888c-5fc9aa3864e9",
        "colab": {
          "base_uri": "https://localhost:8080/"
        }
      },
      "source": [
        "convert_to_sec(3)"
      ],
      "execution_count": 10,
      "outputs": [
        {
          "output_type": "execute_result",
          "data": {
            "text/plain": [
              "10800"
            ]
          },
          "metadata": {
            "tags": []
          },
          "execution_count": 10
        }
      ]
    },
    {
      "cell_type": "code",
      "metadata": {
        "id": "63-9eugb3RUZ",
        "outputId": "3beacc38-7d11-4dcc-ee52-de9c9df3286b",
        "colab": {
          "base_uri": "https://localhost:8080/"
        }
      },
      "source": [
        "convert_to_sec(2)"
      ],
      "execution_count": 11,
      "outputs": [
        {
          "output_type": "execute_result",
          "data": {
            "text/plain": [
              "7200"
            ]
          },
          "metadata": {
            "tags": []
          },
          "execution_count": 11
        }
      ]
    },
    {
      "cell_type": "code",
      "metadata": {
        "id": "BlKmojNSDWDs",
        "outputId": "8f6812ba-0eac-4054-f86c-cc302e8368f1",
        "colab": {
          "base_uri": "https://localhost:8080/"
        }
      },
      "source": [
        "convert_to_sec(10)"
      ],
      "execution_count": 12,
      "outputs": [
        {
          "output_type": "execute_result",
          "data": {
            "text/plain": [
              "36000"
            ]
          },
          "metadata": {
            "tags": []
          },
          "execution_count": 12
        }
      ]
    }
  ]
}